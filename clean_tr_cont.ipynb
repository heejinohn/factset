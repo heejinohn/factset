{
 "cells": [
  {
   "cell_type": "code",
   "execution_count": 53,
   "metadata": {
    "collapsed": true
   },
   "outputs": [],
   "source": [
    "import re, pandas as pd"
   ]
  },
  {
   "cell_type": "code",
   "execution_count": 54,
   "metadata": {},
   "outputs": [],
   "source": [
    "tr_cont = pd.read_csv('/Users/heejinohn/Dropbox/Factset/trantxt/tr_cont.csv', sep=';', header=None, names=['raw','blank'], encoding='latin-1')"
   ]
  },
  {
   "cell_type": "code",
   "execution_count": 55,
   "metadata": {},
   "outputs": [],
   "source": [
    "tr_cont = tr_cont.drop(columns=[\"blank\"])"
   ]
  },
  {
   "cell_type": "code",
   "execution_count": 56,
   "metadata": {},
   "outputs": [],
   "source": [
    "pat1 = re.compile(r'\\s[\\-|\\>|\\<]\\s(?:.*?(?:REPORTS?|REVIEWS?|HANDBOOK|SNAPSHOTS?|FORECASTS?|ANALYSIS|NOTES?)|\\$[0-9\\,]+|[0-9]?[0-9][\\+|\\-|]?(?:\\sTO\\s)?(?:[0-9]?[0-9])?\\s(?:PAGES?|DAYS)|ONE-ON-ONE|AUERBACH\\sGRAYSON|INITIAL\\sOPINION)')\n",
    "pat2 = re.compile(r'\\s(?:[0-9]?[0-9]?[0-9](?:\\+?|\\-?|\\sTO\\s)?(?:[0-9]?[0-9]?[0-9]\\+?)?\\s?(?:PAGES?|DAYS?|PGS)(?:\\,)?|AGED\\s[0-9]?[0-9]\\+?\\sDAYS?)')\n",
    "pat3 = re.compile(r'\\s\\-\\s\\>[0-9]?[0-9]?[0-9]\\sDAYS')"
   ]
  },
  {
   "cell_type": "code",
   "execution_count": 57,
   "metadata": {},
   "outputs": [],
   "source": [
    "tr_cont[\"clean\"]=tr_cont[\"raw\"].str.replace(pat1,'').str.strip()\n",
    "tr_cont[\"clean\"]=tr_cont[\"clean\"].str.replace(re.compile(r'\\(.*?\\)'),'')\n",
    "tr_cont[\"clean\"]=tr_cont[\"clean\"].str.replace(pat2,'')\n",
    "tr_cont[\"clean\"]=tr_cont[\"clean\"].str.replace(pat3,'')\n",
    "tr_cont[\"clean\"]=tr_cont[\"clean\"].str.replace(re.compile(r'\\s\\s+'),' ')"
   ]
  },
  {
   "cell_type": "code",
   "execution_count": 58,
   "metadata": {},
   "outputs": [],
   "source": [
    "tr_cont=tr_cont.drop_duplicates(subset=[\"clean\"])"
   ]
  },
  {
   "cell_type": "code",
   "execution_count": 59,
   "metadata": {},
   "outputs": [],
   "source": [
    "pd.Series(tr_cont[\"clean\"].unique()).to_csv('/Users/heejinohn/Dropbox/Factset/trantxt/cont_name.csv', index=False)"
   ]
  }
 ],
 "metadata": {
  "kernelspec": {
   "display_name": "Python 3",
   "language": "python",
   "name": "python3"
  },
  "language_info": {
   "codemirror_mode": {
    "name": "ipython",
    "version": 3
   },
   "file_extension": ".py",
   "mimetype": "text/x-python",
   "name": "python",
   "nbconvert_exporter": "python",
   "pygments_lexer": "ipython3",
   "version": "3.7.0"
  }
 },
 "nbformat": 4,
 "nbformat_minor": 2
}
